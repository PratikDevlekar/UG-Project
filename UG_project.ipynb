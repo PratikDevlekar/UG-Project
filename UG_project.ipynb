{
 "cells": [
  {
   "cell_type": "code",
   "execution_count": 3,
   "id": "historical-detector",
   "metadata": {},
   "outputs": [
    {
     "name": "stdout",
     "output_type": "stream",
     "text": [
      "Requirement already satisfied: xgboost in /Users/pratikdevlekar/opt/anaconda3/envs/UG/lib/python3.8/site-packages (1.3.3)\n",
      "Requirement already satisfied: numpy in /Users/pratikdevlekar/opt/anaconda3/envs/UG/lib/python3.8/site-packages (from xgboost) (1.20.1)\n",
      "Requirement already satisfied: scipy in /Users/pratikdevlekar/opt/anaconda3/envs/UG/lib/python3.8/site-packages (from xgboost) (1.6.1)\n",
      "Requirement already satisfied: seaborn in /Users/pratikdevlekar/opt/anaconda3/envs/UG/lib/python3.8/site-packages (0.11.1)\n",
      "Requirement already satisfied: pandas>=0.23 in /Users/pratikdevlekar/opt/anaconda3/envs/UG/lib/python3.8/site-packages (from seaborn) (1.2.3)\n",
      "Requirement already satisfied: scipy>=1.0 in /Users/pratikdevlekar/opt/anaconda3/envs/UG/lib/python3.8/site-packages (from seaborn) (1.6.1)\n",
      "Requirement already satisfied: numpy>=1.15 in /Users/pratikdevlekar/opt/anaconda3/envs/UG/lib/python3.8/site-packages (from seaborn) (1.20.1)\n",
      "Requirement already satisfied: matplotlib>=2.2 in /Users/pratikdevlekar/opt/anaconda3/envs/UG/lib/python3.8/site-packages (from seaborn) (3.3.4)\n",
      "Requirement already satisfied: python-dateutil>=2.1 in /Users/pratikdevlekar/opt/anaconda3/envs/UG/lib/python3.8/site-packages (from matplotlib>=2.2->seaborn) (2.8.1)\n",
      "Requirement already satisfied: kiwisolver>=1.0.1 in /Users/pratikdevlekar/opt/anaconda3/envs/UG/lib/python3.8/site-packages (from matplotlib>=2.2->seaborn) (1.3.1)\n",
      "Requirement already satisfied: cycler>=0.10 in /Users/pratikdevlekar/opt/anaconda3/envs/UG/lib/python3.8/site-packages (from matplotlib>=2.2->seaborn) (0.10.0)\n",
      "Requirement already satisfied: pillow>=6.2.0 in /Users/pratikdevlekar/opt/anaconda3/envs/UG/lib/python3.8/site-packages (from matplotlib>=2.2->seaborn) (8.1.1)\n",
      "Requirement already satisfied: pyparsing!=2.0.4,!=2.1.2,!=2.1.6,>=2.0.3 in /Users/pratikdevlekar/opt/anaconda3/envs/UG/lib/python3.8/site-packages (from matplotlib>=2.2->seaborn) (2.4.7)\n",
      "Requirement already satisfied: six in /Users/pratikdevlekar/opt/anaconda3/envs/UG/lib/python3.8/site-packages (from cycler>=0.10->matplotlib>=2.2->seaborn) (1.15.0)\n",
      "Requirement already satisfied: pytz>=2017.3 in /Users/pratikdevlekar/opt/anaconda3/envs/UG/lib/python3.8/site-packages (from pandas>=0.23->seaborn) (2021.1)\n"
     ]
    }
   ],
   "source": [
    "!pip3 install xgboost\n",
    "!pip install seaborn"
   ]
  },
  {
   "cell_type": "code",
   "execution_count": 4,
   "id": "allied-justice",
   "metadata": {},
   "outputs": [],
   "source": [
    "from pymatgen.io.cif import CifParser\n",
    "from urllib.request import urlopen\n",
    "import pandas as pd\n",
    "from pymatgen.ext.matproj import MPRester\n",
    "from pymatgen.ext.matproj import MPRestError\n",
    "import matplotlib.pyplot as plt\n",
    "import pandas as pd\n",
    "from sklearn.preprocessing import StandardScaler\n",
    "from sklearn.metrics import mean_squared_error, r2_score\n",
    "from sklearn.ensemble import RandomForestRegressor\n",
    "from sklearn.model_selection import train_test_split\n",
    "from sklearn.impute import SimpleImputer\n",
    "import matplotlib.pyplot as plt\n",
    "import seaborn as sns\n",
    "import numpy as np"
   ]
  },
  {
   "cell_type": "code",
   "execution_count": 5,
   "id": "banner-creature",
   "metadata": {},
   "outputs": [],
   "source": [
    "m = MPRester(\"Omf8eRmds2PfwiAu72\")"
   ]
  },
  {
   "cell_type": "code",
   "execution_count": 6,
   "id": "single-classification",
   "metadata": {},
   "outputs": [
    {
     "data": {
      "application/vnd.jupyter.widget-view+json": {
       "model_id": "8956a4b744b647f2bb09adc892bd77d1",
       "version_major": 2,
       "version_minor": 0
      },
      "text/plain": [
       "  0%|          | 0/39452 [00:00<?, ?it/s]"
      ]
     },
     "metadata": {},
     "output_type": "display_data"
    }
   ],
   "source": [
    "results = m.query({\"elements\":{\"$all\": [\"O\"]},\"band_gap\": {\"$gt\": 0.2}}, properties=[\"cif\", \"band_gap\"])"
   ]
  },
  {
   "cell_type": "code",
   "execution_count": 11,
   "id": "instrumental-render",
   "metadata": {},
   "outputs": [
    {
     "name": "stdout",
     "output_type": "stream",
     "text": [
      "39452\n"
     ]
    }
   ],
   "source": [
    "print(len(results))"
   ]
  },
  {
   "cell_type": "code",
   "execution_count": 12,
   "id": "parliamentary-armstrong",
   "metadata": {},
   "outputs": [],
   "source": [
    "atomic_numbers = []\n",
    "a_parameters = []\n",
    "b_parameters = []\n",
    "c_parameters = []\n",
    "alpha_parameters = []\n",
    "beta_parameters = []\n",
    "gamma_parameters = []\n",
    "distance_matrix = []\n",
    "band_gaps = []\n",
    "van_der_waals_radius = []\n",
    "electrical_resistivity = []\n",
    "velocity_of_sound = []\n",
    "reflectivity = []\n",
    "poissons_ratio = []\n",
    "molar_volume = []\n",
    "thermal_conductivity = []\n",
    "melting_point = []\n",
    "critical_temperature = []\n",
    "superconduction_temperature = []\n",
    "liquid_range = []\n",
    "bulk_modulus = []\n",
    "youngs_modulus = []\n",
    "brinell_hardness = []\n",
    "rigidity_modulus = []\n",
    "vickers_hardness = []\n",
    "density_of_solid = []\n",
    "coefficient_of_linear_thermal_expansion = []\n",
    "average_ionic_radius = []\n",
    "average_cationic_radius = []\n",
    "average_anionic_radius = []"
   ]
  },
  {
   "cell_type": "code",
   "execution_count": 13,
   "id": "resident-shift",
   "metadata": {},
   "outputs": [],
   "source": [
    "imp = SimpleImputer(missing_values=None, strategy='constant',fill_value=0)"
   ]
  },
  {
   "cell_type": "code",
   "execution_count": null,
   "id": "comprehensive-leader",
   "metadata": {},
   "outputs": [],
   "source": [
    "for r in results:\n",
    "    cif = r['cif']\n",
    "    bg = r['band_gap']\n",
    "    if bg > 0.2 and bg<3:\n",
    "      parser = CifParser.from_string(cif)\n",
    "\n",
    "      structure = parser.get_structures()\n",
    "      structure = structure[0]\n",
    "\n",
    "      numElements = len(structure.atomic_numbers)\n",
    "\n",
    "      atomic_numbers += [[np.mean(structure.atomic_numbers),np.max(structure.atomic_numbers),np.min(structure.atomic_numbers),np.std(structure.atomic_numbers)]]\n",
    "\n",
    "      # Lattice parameters:\n",
    "      a_parameters += [structure.lattice.abc[0]]\n",
    "      b_parameters += [structure.lattice.abc[1]]\n",
    "      c_parameters += [structure.lattice.abc[2]]\n",
    "      alpha_parameters += [structure.lattice.angles[0]]\n",
    "      beta_parameters += [structure.lattice.angles[1]]\n",
    "      gamma_parameters += [structure.lattice.angles[2]]\n",
    "\n",
    "      distance_matrix += [[np.mean(structure.distance_matrix),np.max(structure.distance_matrix),np.min(structure.distance_matrix),np.std(structure.distance_matrix)]]\n",
    "      band_gaps += [bg]\n"
   ]
  },
  {
   "cell_type": "code",
   "execution_count": null,
   "id": "billion-momentum",
   "metadata": {},
   "outputs": [],
   "source": [
    "print(len(band_gaps))"
   ]
  },
  {
   "cell_type": "code",
   "execution_count": null,
   "id": "joint-anger",
   "metadata": {},
   "outputs": [],
   "source": [
    "plt.rcParams.update({'font.size': 20})\n",
    "\n",
    "plt.figure(figsize=(10, 10))\n",
    "plt.hist(band_gaps, bins=100)\n",
    "plt.savefig('Histogram_PDF_NoMetals', bbox_inches='tight')\n",
    "\n",
    "band_gaps_sorted=sorted(band_gaps)"
   ]
  },
  {
   "cell_type": "code",
   "execution_count": null,
   "id": "discrete-uncertainty",
   "metadata": {},
   "outputs": [],
   "source": [
    "plt.figure(figsize=(10,10))\n",
    "plt.plot(band_gaps_sorted)\n",
    "plt.ylabel('')\n",
    "plt.xlabel('')\n",
    "plt.savefig('ScatterPlot_NoMetals', bbox_inches='tight')"
   ]
  },
  {
   "cell_type": "code",
   "execution_count": null,
   "id": "little-pasta",
   "metadata": {},
   "outputs": [],
   "source": [
    "a_parameters=np.array(a_parameters)\n",
    "b_parameters=np.array(b_parameters)\n",
    "c_parameters=np.array(c_parameters)\n",
    "atomic_numbers=np.array(atomic_numbers).transpose()\n",
    "distance_matrix=np.array(distance_matrix).transpose()\n",
    "van_der_waals_radius=np.array(van_der_waals_radius).transpose()\n",
    "electrical_resistivity=np.array(electrical_resistivity).transpose()\n",
    "velocity_of_sound=np.array(velocity_of_sound).transpose()\n",
    "reflectivity=np.array(reflectivity).transpose()\n",
    "poissons_ratio=np.array(poissons_ratio).transpose()\n",
    "molar_volume=np.array(molar_volume).transpose()\n",
    "thermal_conductivity=np.array(thermal_conductivity).transpose()\n",
    "melting_point=np.array(melting_point).transpose()\n",
    "critical_temperature=np.array(critical_temperature).transpose()\n",
    "superconduction_temperature=np.array(superconduction_temperature).transpose()\n",
    "liquid_range=np.array(liquid_range).transpose()\n",
    "bulk_modulus=np.array(bulk_modulus).transpose()\n",
    "youngs_modulus=np.array(youngs_modulus).transpose()\n",
    "brinell_hardness=np.array(brinell_hardness).transpose()\n",
    "rigidity_modulus=np.array(rigidity_modulus).transpose()\n",
    "vickers_hardness=np.array(vickers_hardness).transpose()\n",
    "density_of_solid=np.array(density_of_solid).transpose()\n",
    "coefficient_of_linear_thermal_expansion=np.array(coefficient_of_linear_thermal_expansion).transpose()\n",
    "average_ionic_radius=np.array(average_ionic_radius).transpose()\n",
    "average_cationic_radius=np.array(average_cationic_radius).transpose()\n",
    "average_anionic_radius=np.array(average_anionic_radius).transpose()"
   ]
  },
  {
   "cell_type": "code",
   "execution_count": null,
   "id": "variable-encyclopedia",
   "metadata": {},
   "outputs": [],
   "source": [
    "dataset_df = pd.DataFrame({\\\n",
    "                           \"mean_atomic_numbers\": atomic_numbers[0],\n",
    "                           \"max_atomic_numbers\": atomic_numbers[1],\n",
    "                           \"min_atomic_numbers\": atomic_numbers[2],\n",
    "                           \"std_atomic_numbers\": atomic_numbers[3],\n",
    "                           \"a_parameters\": a_parameters,\n",
    "                           \"b_parameters\": b_parameters,\n",
    "                           \"c_parameters\": c_parameters,\n",
    "                           \"V\":a_parameters*b_parameters*c_parameters,\n",
    "                           \"alpha_parameters\": alpha_parameters,\n",
    "                           \"beta_parameters\": beta_parameters,\n",
    "                           \"gamma_parameters\": gamma_parameters,\n",
    "                           \"mean_distance_matrix\": distance_matrix[0],\n",
    "                           \"max_distance_matrix\": distance_matrix[1],\n",
    "                           \"min_distance_matrix\": distance_matrix[2],\n",
    "                           \"std_distance_matrix\": distance_matrix[3],\n",
    "                           \"mean_van_der_waals_radius\":van_der_waals_radius[0],\n",
    "                           \"max_van_der_waals_radius\":van_der_waals_radius[1],\n",
    "                           \"min_van_der_waals_radius\":van_der_waals_radius[2],\n",
    "                           \"std_van_der_waals_radius\":van_der_waals_radius[3],\n",
    "                           \"mean_electrical_resistivity\":electrical_resistivity[0],\n",
    "                           \"max_electrical_resistivity\":electrical_resistivity[1],\n",
    "                           \"min_electrical_resistivity\":electrical_resistivity[2],\n",
    "                           \"std_electrical_resistivity\":electrical_resistivity[3],\n",
    "                           \"mean_velocity_of_sound\":velocity_of_sound[0],\n",
    "                           \"max_velocity_of_sound\":velocity_of_sound[1],\n",
    "                           \"min_velocity_of_sound\":velocity_of_sound[2],\n",
    "                           \"std_velocity_of_sound\":velocity_of_sound[3],\n",
    "                           \"mean_reflectivity\":reflectivity[0],\n",
    "                           \"max_reflectivity\":reflectivity[1],\n",
    "                           \"min_reflectivity\":reflectivity[2],\n",
    "                           \"std_reflectivity\":reflectivity[3],\n",
    "                           \"mean_poissons_ratio\":poissons_ratio[0],\n",
    "                           \"max_poissons_ratio\":poissons_ratio[1],\n",
    "                           \"min_poissons_ratio\":poissons_ratio[2],\n",
    "                           \"std_poissons_ratio\":poissons_ratio[3],\n",
    "                           \"mean_molar_volume\":molar_volume[0],\n",
    "                           \"max_molar_volume\":molar_volume[1],\n",
    "                           \"min_molar_volume\":molar_volume[2],\n",
    "                           \"std_molar_volume\":molar_volume[3],\n",
    "                           \"mean_thermal_conductivity\":thermal_conductivity[0],\n",
    "                           \"max_thermal_conductivity\":thermal_conductivity[1],\n",
    "                           \"min_thermal_conductivity\":thermal_conductivity[2],\n",
    "                           \"std_thermal_conductivity\":thermal_conductivity[3],\n",
    "                           \"mean_melting_point\":melting_point[0],\n",
    "                           \"max_melting_point\":melting_point[1],\n",
    "                           \"min_melting_point\":melting_point[2],\n",
    "                           \"std_melting_point\":melting_point[3],\n",
    "                           \"mean_critical_temperature\":critical_temperature[0],\n",
    "                           \"max_critical_temperature\":critical_temperature[1],\n",
    "                           \"min_critical_temperature\":critical_temperature[2],\n",
    "                           \"std_critical_temperature\":critical_temperature[3],\n",
    "                           \"mean_superconduction_temperature\":superconduction_temperature[0],\n",
    "                           \"max_superconduction_temperature\":superconduction_temperature[1],\n",
    "                           \"min_superconduction_temperature\":superconduction_temperature[2],\n",
    "                           \"std_superconduction_temperature\":superconduction_temperature[3],\n",
    "                           \"mean_liquid_range\":liquid_range[0],\n",
    "                           \"max_liquid_range\":liquid_range[1],\n",
    "                           \"min_liquid_range\":liquid_range[2],\n",
    "                           \"std_liquid_range\":liquid_range[3],\n",
    "                           \"mean_bulk_modulus\":bulk_modulus[0],\n",
    "                           \"max_bulk_modulus\":bulk_modulus[1],\n",
    "                           \"min_bulk_modulus\":bulk_modulus[2],\n",
    "                           \"std_bulk_modulus\":bulk_modulus[3],\n",
    "                           \"mean_youngs_modulus\":youngs_modulus[0],\n",
    "                           \"max_youngs_modulus\":youngs_modulus[1],\n",
    "                           \"min_youngs_modulus\":youngs_modulus[2],\n",
    "                           \"std_youngs_modulus\":youngs_modulus[3],\n",
    "                           \"mean_brinell_hardness\":brinell_hardness[0],\n",
    "                           \"max_brinell_hardness\":brinell_hardness[1],\n",
    "                           \"min_brinell_hardness\":brinell_hardness[2],\n",
    "                           \"std_brinell_hardness\":brinell_hardness[3],\n",
    "                           \"mean_rigidity_modulus\":rigidity_modulus[0],\n",
    "                           \"max_rigidity_modulus\":rigidity_modulus[1],\n",
    "                           \"min_rigidity_modulus\":rigidity_modulus[2],\n",
    "                           \"std_rigidity_modulus\":rigidity_modulus[3],\n",
    "                           \"mean_vickers_hardness\":vickers_hardness[0],\n",
    "                           \"max_vickers_hardness\":vickers_hardness[1],\n",
    "                           \"min_vickers_hardness\":vickers_hardness[2],\n",
    "                           \"std_vickers_hardness\":vickers_hardness[3],\n",
    "                           \"mean_density_of_solid\":density_of_solid[0],\n",
    "                           \"mean_coefficient_of_linear_thermal_expansion\":coefficient_of_linear_thermal_expansion[0],\n",
    "                           \"mean_coefficient_of_linear_thermal_expansion\":coefficient_of_linear_thermal_expansion[0],\n",
    "                           \"mean_coefficient_of_linear_thermal_expansion\":coefficient_of_linear_thermal_expansion[0],\n",
    "                           \"mean_coefficient_of_linear_thermal_expansion\":coefficient_of_linear_thermal_expansion[0],\n",
    "                           \"mean_average_ionic_radius\":average_ionic_radius[0],\n",
    "                           \"max_average_ionic_radius\":average_ionic_radius[1],\n",
    "                           \"min_average_ionic_radius\":average_ionic_radius[2],\n",
    "                           \"std_average_ionic_radius\":average_ionic_radius[3],\n",
    "                           \"mean_average_cationic_radius\":average_cationic_radius[0],\n",
    "                           \"max_average_cationic_radius\":average_cationic_radius[1],\n",
    "                           \"min_average_cationic_radius\":average_cationic_radius[2],\n",
    "                           \"std_average_cationic_radius\":average_cationic_radius[3],\n",
    "                           \"mean_average_anionic_radius\":average_anionic_radius[0],\n",
    "                           \"max_average_anionic_radius\":average_anionic_radius[1],\n",
    "                           \"min_average_anionic_radius\":average_anionic_radius[2],\n",
    "                           \"std_average_anionic_radius\":average_anionic_radius[3]\n",
    "                           })\n"
   ]
  },
  {
   "cell_type": "code",
   "execution_count": null,
   "id": "mounted-brown",
   "metadata": {},
   "outputs": [],
   "source": [
    "dataset_df.info()"
   ]
  },
  {
   "cell_type": "code",
   "execution_count": null,
   "id": "amateur-cricket",
   "metadata": {},
   "outputs": [],
   "source": [
    "dataset_df.describe()"
   ]
  },
  {
   "cell_type": "code",
   "execution_count": null,
   "id": "paperback-white",
   "metadata": {},
   "outputs": [],
   "source": [
    "dataset_df.head(10)"
   ]
  },
  {
   "cell_type": "code",
   "execution_count": null,
   "id": "rotary-twins",
   "metadata": {},
   "outputs": [],
   "source": [
    "from sklearn.preprocessing import MinMaxScaler"
   ]
  },
  {
   "cell_type": "code",
   "execution_count": null,
   "id": "bridal-efficiency",
   "metadata": {},
   "outputs": [],
   "source": [
    "from sklearn.preprocessing import StandardScaler"
   ]
  },
  {
   "cell_type": "code",
   "execution_count": null,
   "id": "bronze-shock",
   "metadata": {},
   "outputs": [],
   "source": [
    "scaler=StandardScaler().fit(dataset_df)"
   ]
  },
  {
   "cell_type": "code",
   "execution_count": null,
   "id": "civil-happiness",
   "metadata": {},
   "outputs": [],
   "source": [
    "scaled_dataset_df=scaler.transform(dataset_df)"
   ]
  },
  {
   "cell_type": "code",
   "execution_count": null,
   "id": "dutch-swiss",
   "metadata": {},
   "outputs": [],
   "source": [
    "scaled_dataset_df"
   ]
  },
  {
   "cell_type": "code",
   "execution_count": null,
   "id": "alternate-windsor",
   "metadata": {},
   "outputs": [],
   "source": [
    "from sklearn.decomposition import PCA"
   ]
  },
  {
   "cell_type": "code",
   "execution_count": null,
   "id": "pharmaceutical-tampa",
   "metadata": {},
   "outputs": [],
   "source": [
    "pca=PCA(n_components=2)"
   ]
  },
  {
   "cell_type": "code",
   "execution_count": null,
   "id": "tender-arbitration",
   "metadata": {},
   "outputs": [],
   "source": [
    "pca.fit(scaled_dataset_df)"
   ]
  },
  {
   "cell_type": "code",
   "execution_count": null,
   "id": "limited-emergency",
   "metadata": {},
   "outputs": [],
   "source": [
    "x_pca=pca.transform(scaled_dataset_df)"
   ]
  },
  {
   "cell_type": "code",
   "execution_count": null,
   "id": "worldwide-stamp",
   "metadata": {},
   "outputs": [],
   "source": [
    "scaled_dataset_df.shape"
   ]
  },
  {
   "cell_type": "code",
   "execution_count": null,
   "id": "incoming-effectiveness",
   "metadata": {},
   "outputs": [],
   "source": [
    "x_pca.shape"
   ]
  },
  {
   "cell_type": "code",
   "execution_count": null,
   "id": "gorgeous-serbia",
   "metadata": {},
   "outputs": [],
   "source": [
    "x_pca"
   ]
  },
  {
   "cell_type": "code",
   "execution_count": null,
   "id": "continued-collar",
   "metadata": {},
   "outputs": [],
   "source": [
    "X_train_scaled, X_test_scaled, y_train, y_test = train_test_split(scaled_dataset_df, band_gaps, test_size=.2, random_state=None)"
   ]
  },
  {
   "cell_type": "code",
   "execution_count": null,
   "id": "sharp-pencil",
   "metadata": {},
   "outputs": [],
   "source": [
    "regr = RandomForestRegressor(n_estimators=300, max_depth=200, random_state=0)\n",
    "regr.fit(X_train_scaled, y_train)\n",
    "y_predicted = regr.predict(X_test_scaled)\n",
    "\n",
    "print('RF MSE\\t'+str(mean_squared_error(y_test, y_predicted))+'\\n')\n",
    "print('RF R2\\t'+str(r2_score(y_test, y_predicted))+'\\n')\n",
    "\n",
    "\n",
    "xPlot=y_test\n",
    "yPlot=y_predicted\n",
    "plt.figure(figsize=(20,20))\n",
    "plt.plot(xPlot,yPlot,'ro')\n",
    "plt.plot(xPlot,xPlot)\n",
    "plt.ylabel('RF')\n",
    "plt.xlabel('DFT')"
   ]
  },
  {
   "cell_type": "code",
   "execution_count": null,
   "id": "tender-mailing",
   "metadata": {},
   "outputs": [],
   "source": []
  }
 ],
 "metadata": {
  "kernelspec": {
   "display_name": "Python 3",
   "language": "python",
   "name": "python3"
  },
  "language_info": {
   "codemirror_mode": {
    "name": "ipython",
    "version": 3
   },
   "file_extension": ".py",
   "mimetype": "text/x-python",
   "name": "python",
   "nbconvert_exporter": "python",
   "pygments_lexer": "ipython3",
   "version": "3.8.8"
  }
 },
 "nbformat": 4,
 "nbformat_minor": 5
}
